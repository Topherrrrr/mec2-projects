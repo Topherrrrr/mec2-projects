{
  "cells": [
    {
      "cell_type": "markdown",
      "metadata": {
        "id": "view-in-github",
        "colab_type": "text"
      },
      "source": [
        "<a href=\"https://colab.research.google.com/github/Topherrrrr/mec2-projects/blob/main/Copy_of_Student_MLE_MiniProject_Fine_Tuning.ipynb\" target=\"_parent\"><img src=\"https://colab.research.google.com/assets/colab-badge.svg\" alt=\"Open In Colab\"/></a>"
      ]
    },
    {
      "cell_type": "markdown",
      "metadata": {
        "id": "fyXucUekO19i"
      },
      "source": [
        "# Mini Project: Transfer Learning with Keras\n",
        "\n",
        "Transfer learning is a machine learning technique where a model trained on one task is used as a starting point to solve a different but related task. Instead of training a model from scratch, transfer learning leverages the knowledge learned from the source task and applies it to the target task. This approach is especially useful when the target task has limited data or computational resources.\n",
        "\n",
        "In transfer learning, the pre-trained model, also known as the \"base model\" or \"source model,\" is typically trained on a large dataset and a more general problem (e.g., image classification on ImageNet, a vast dataset with millions of labeled images). The knowledge learned by the base model in the form of feature representations and weights captures common patterns and features in the data.\n",
        "\n",
        "To perform transfer learning, the following steps are commonly followed:\n",
        "\n",
        "1. Pre-training: The base model is trained on a source task using a large dataset, which can take a considerable amount of time and computational resources.\n",
        "\n",
        "2. Feature Extraction: After pre-training, the base model is used as a feature extractor. The last few layers (classifier layers) of the model are discarded, and the remaining layers (feature extraction layers) are retained. These layers serve as feature extractors, producing meaningful representations of the data.\n",
        "\n",
        "3. Fine-tuning: The feature extraction layers and sometimes some of the earlier layers are connected to a new set of layers, often called the \"classifier layers\" or \"task-specific layers.\" These layers are randomly initialized, and the model is trained on the target task with a smaller dataset. The weights of the base model can be frozen during fine-tuning, or they can be allowed to be updated with a lower learning rate to fine-tune the model for the target task.\n",
        "\n",
        "Transfer learning has several benefits:\n",
        "\n",
        "1. Reduced training time and resource requirements: Since the base model has already learned generic features, transfer learning can save time and resources compared to training a model from scratch.\n",
        "\n",
        "2. Improved generalization: Transfer learning helps the model generalize better to the target task, especially when the target dataset is small and dissimilar from the source dataset.\n",
        "\n",
        "3. Better performance: By starting from a model that is already trained on a large dataset, transfer learning can lead to better performance on the target task, especially in scenarios with limited data.\n",
        "\n",
        "4. Effective feature extraction: The feature extraction layers of the pre-trained model can serve as powerful feature extractors for different tasks, even when the task domains differ.\n",
        "\n",
        "Transfer learning is commonly used in various domains, including computer vision, natural language processing (NLP), and speech recognition, where pre-trained models are fine-tuned for specific applications like object detection, sentiment analysis, or speech-to-text.\n",
        "\n",
        "In this mini-project you will perform fine-tuning using Keras with a pre-trained VGG16 model on the CIFAR-10 dataset."
      ]
    },
    {
      "cell_type": "markdown",
      "metadata": {
        "id": "TYuE9O6I2uRY"
      },
      "source": [
        "First, import all the libraries you'll need."
      ]
    },
    {
      "cell_type": "code",
      "execution_count": null,
      "metadata": {
        "id": "kLWR1DfQPakn"
      },
      "outputs": [],
      "source": [
        "import numpy as np\n",
        "import tensorflow as tf\n",
        "from tensorflow.keras.datasets import cifar10\n",
        "from tensorflow.keras.applications import VGG16\n",
        "from tensorflow.keras.models import Model\n",
        "from sklearn.preprocessing import OneHotEncoder\n",
        "from tensorflow.keras.layers import Dense, GlobalAveragePooling2D, Flatten\n",
        "from tensorflow.keras.optimizers import Adam\n",
        "from tensorflow.keras.utils import to_categorical\n",
        "from sklearn.model_selection import train_test_split\n",
        "from sklearn.preprocessing import MinMaxScaler\n",
        "import matplotlib.pyplot as plt\n",
        "from tensorflow.keras.preprocessing.image import ImageDataGenerator"
      ]
    },
    {
      "cell_type": "markdown",
      "metadata": {
        "id": "TEB60YsX2yUf"
      },
      "source": [
        "The CIFAR-10 dataset is a widely used benchmark dataset in the field of computer vision and machine learning. It stands for the \"Canadian Institute for Advanced Research 10\" dataset. CIFAR-10 was created by researchers at the CIFAR institute and was originally introduced as part of the Neural Information Processing Systems (NIPS) 2009 competition.\n",
        "\n",
        "The dataset consists of 60,000 color images, each of size 32x32 pixels, belonging to ten different classes. Each class contains 6,000 images. The ten classes in CIFAR-10 are:\n",
        "\n",
        "1. Airplane\n",
        "2. Automobile\n",
        "3. Bird\n",
        "4. Cat\n",
        "5. Deer\n",
        "6. Dog\n",
        "7. Frog\n",
        "8. Horse\n",
        "9. Ship\n",
        "10. Truck\n",
        "\n",
        "The images are evenly distributed across the classes, making CIFAR-10 a balanced dataset. The dataset is divided into two sets: a training set and a test set. The training set contains 50,000 images, while the test set contains the remaining 10,000 images.\n",
        "\n",
        "CIFAR-10 is often used for tasks such as image classification, object recognition, and transfer learning experiments. The relatively small size of the images and the variety of classes make it a challenging dataset for training machine learning models, especially deep neural networks. It also serves as a good dataset for teaching and learning purposes due to its manageable size and straightforward class labels."
      ]
    },
    {
      "cell_type": "markdown",
      "metadata": {
        "id": "Gp0MVIbiFonL"
      },
      "source": [
        "Here are your tasks:\n",
        "\n",
        "1. Load the CIFAR-10 dataset after referencing the documentation [here](https://keras.io/api/datasets/cifar10/).\n",
        "2. Normalize the pixel values so they're all in the range [0, 1].\n",
        "3. Apply One Hot Encoding to the train and test labels using the [to_categorical](https://www.tensorflow.org/api_docs/python/tf/keras/utils/to_categorical) function.\n",
        "4. Further split the the training data into training and validation sets using [train_test_split](https://scikit-learn.org/stable/modules/generated/sklearn.model_selection.train_test_split.html). Use only 10% of the data for validation.  "
      ]
    },
    {
      "cell_type": "code",
      "execution_count": null,
      "metadata": {
        "colab": {
          "base_uri": "https://localhost:8080/",
          "height": 482
        },
        "id": "ndNbwjaaSvs-",
        "outputId": "c0d62366-10b0-4302-fd24-2b65d3c79bd4"
      },
      "outputs": [
        {
          "output_type": "stream",
          "name": "stdout",
          "text": [
            "Downloading data from https://www.cs.toronto.edu/~kriz/cifar-10-python.tar.gz\n",
            "170498071/170498071 [==============================] - 3s 0us/step\n"
          ]
        },
        {
          "output_type": "execute_result",
          "data": {
            "text/plain": [
              "<matplotlib.image.AxesImage at 0x7ad03300e2c0>"
            ]
          },
          "metadata": {},
          "execution_count": 2
        },
        {
          "output_type": "display_data",
          "data": {
            "text/plain": [
              "<Figure size 640x480 with 1 Axes>"
            ],
            "image/png": "[encoded data removed]"
          },
          "metadata": {}
        }
      ],
      "source": [
        "# Load the CIFAR-10 dataset\n",
        "(X_train, Y_train), (X_test, Y_test) = tf.keras.datasets.cifar10.load_data()\n",
        "plt.imshow(X_train[0])"
      ]
    },
    {
      "cell_type": "code",
      "execution_count": null,
      "metadata": {
        "id": "8H6KUgh2SxxR"
      },
      "outputs": [],
      "source": [
        "# Normalize the pixel values to [0, 1]\n",
        "\n",
        "X_train = X_train/255\n",
        "X_test = X_test/255"
      ]
    },
    {
      "cell_type": "code",
      "execution_count": null,
      "metadata": {
        "colab": {
          "base_uri": "https://localhost:8080/"
        },
        "id": "mWDW1ZLySz7K",
        "outputId": "3edbaf70-7c26-4dcf-f97e-2da540b2f3d9"
      },
      "outputs": [
        {
          "output_type": "stream",
          "name": "stderr",
          "text": [
            "/usr/local/lib/python3.10/dist-packages/sklearn/preprocessing/_encoders.py:868: FutureWarning: `sparse` was renamed to `sparse_output` in version 1.2 and will be removed in 1.4. `sparse_output` is ignored unless you leave `sparse` to its default value.\n",
            "  warnings.warn(\n"
          ]
        },
        {
          "output_type": "execute_result",
          "data": {
            "text/plain": [
              "array([[0., 0., 0., ..., 0., 0., 0.],\n",
              "       [0., 0., 0., ..., 0., 1., 0.],\n",
              "       [0., 0., 0., ..., 0., 1., 0.],\n",
              "       ...,\n",
              "       [0., 0., 0., ..., 0., 0., 0.],\n",
              "       [0., 1., 0., ..., 0., 0., 0.],\n",
              "       [0., 0., 0., ..., 1., 0., 0.]])"
            ]
          },
          "metadata": {},
          "execution_count": 4
        }
      ],
      "source": [
        "# One-hot encode the labels\n",
        "one_hot_encoder = OneHotEncoder(sparse = False)\n",
        "one_hot_encoder.fit(Y_train)\n",
        "\n",
        "Y_train = one_hot_encoder.transform(Y_train)\n",
        "Y_test = one_hot_encoder.transform(Y_test)\n",
        "Y_test"
      ]
    },
    {
      "cell_type": "code",
      "execution_count": null,
      "metadata": {
        "id": "4y3zao91ndZB"
      },
      "outputs": [],
      "source": [
        "# Split the data into training and validation sets\n",
        "\n",
        "#Done above"
      ]
    },
    {
      "cell_type": "markdown",
      "metadata": {
        "id": "aiFJsxS5HPHW"
      },
      "source": [
        "VGG16 (Visual Geometry Group 16) is a deep convolutional neural network architecture that was developed by the Visual Geometry Group at the University of Oxford. It was proposed by researchers Karen Simonyan and Andrew Zisserman in their paper titled \"Very Deep Convolutional Networks for Large-Scale Image Recognition,\" which was presented at the International Conference on Learning Representations (ICLR) in 2015.\n",
        "\n",
        "The VGG16 architecture gained significant popularity for its simplicity and effectiveness in image classification tasks. It was one of the pioneering models that demonstrated the power of deeper neural networks for visual recognition tasks.\n",
        "\n",
        "Key characteristics of the VGG16 architecture:\n",
        "\n",
        "1. Architecture: VGG16 consists of a total of 16 layers, hence the name \"16.\" These layers are stacked one after another, forming a deep neural network.\n",
        "\n",
        "2. Convolutional Layers: The main building blocks of VGG16 are the convolutional layers. It primarily uses 3x3 convolutional filters throughout the network, which allows it to capture local features effectively.\n",
        "\n",
        "3. Max Pooling: After each set of convolutional layers, VGG16 applies max-pooling layers with 2x2 filters and stride 2, which halves the spatial dimensions (width and height) of the feature maps and reduces the number of parameters.\n",
        "\n",
        "4. Fully Connected Layers: Towards the end of the network, VGG16 has fully connected layers that act as a classifier to make predictions based on the learned features.\n",
        "\n",
        "5. Activation Function: The network uses the Rectified Linear Unit (ReLU) activation function for all hidden layers, which helps with faster convergence during training.\n",
        "\n",
        "6. Number of Filters: The number of filters in each convolutional layer is relatively small compared to more recent architectures like ResNet or InceptionNet. However, stacking multiple layers allows VGG16 to learn complex hierarchical features.\n",
        "\n",
        "7. Output Layer: The output layer consists of 1000 units, corresponding to 1000 ImageNet classes. VGG16 was originally trained on the large-scale ImageNet dataset, which contains millions of images from 1000 different classes.\n",
        "\n",
        "VGG16 was instrumental in showing that increasing the depth of a neural network can significantly improve its performance on image recognition tasks. However, the main drawback of VGG16 is its high number of parameters, making it computationally expensive and memory-intensive to train. Despite this limitation, VGG16 remains an essential benchmark architecture and has paved the way for even deeper and more efficient models in the field of computer vision, such as ResNet, DenseNet, and EfficientNet."
      ]
    },
    {
      "cell_type": "markdown",
      "metadata": {
        "id": "XJw9E1D9Q3tQ"
      },
      "source": [
        "Here are your tasks:\n",
        "\n",
        "1. Load [VGG16](https://keras.io/api/applications/vgg/#vgg16-function) as a base model. Make sure to exclude the top layer.\n",
        "2. Freeze all the layers in the base model. We'll be using these weights as a feature extraction layer to forward to layers that are trainable."
      ]
    },
    {
      "cell_type": "code",
      "execution_count": null,
      "metadata": {
        "colab": {
          "base_uri": "https://localhost:8080/"
        },
        "id": "bncm8oTonijm",
        "outputId": "2e8a374e-7dd3-46f5-f813-3e9d5dbcc81c"
      },
      "outputs": [
        {
          "output_type": "stream",
          "name": "stdout",
          "text": [
            "Downloading data from https://storage.googleapis.com/tensorflow/keras-applications/vgg16/vgg16_weights_tf_dim_ordering_tf_kernels_notop.h5\n",
            "58889256/58889256 [==============================] - 1s 0us/step\n"
          ]
        }
      ],
      "source": [
        "# Load the pre-trained VGG16 model (excluding the top classifier)\n",
        "vg_model = tf.keras.applications.VGG16(\n",
        "    include_top=False,\n",
        "    weights=\"imagenet\",\n",
        "    input_tensor=None,\n",
        "    input_shape=None,\n",
        "    pooling=None,\n",
        "    classes=1000,\n",
        "    classifier_activation=\"softmax\",\n",
        ")"
      ]
    },
    {
      "cell_type": "code",
      "execution_count": null,
      "metadata": {
        "id": "pCQXH4bwS6h5"
      },
      "outputs": [],
      "source": [
        "# Freeze the layers in the base model\n",
        "for layer in vg_model.layers:\n",
        "  layer.trainable = False"
      ]
    },
    {
      "cell_type": "markdown",
      "metadata": {
        "id": "MAnyLR6btWqd"
      },
      "source": [
        "Now, we'll add some trainable layers to the base model.\n",
        "\n",
        "1. Using the base model, add a [GlobalAveragePooling2D](https://keras.io/api/layers/pooling_layers/global_average_pooling2d/) layer, followed by a [Dense](https://keras.io/api/layers/core_layers/dense/) layer of length 256 with ReLU activation. Finally, add a classification layer with 10 units, corresponding to the 10 CIFAR-10 classes, with softmax activation.\n",
        "2. Create a Keras [Model](https://keras.io/api/models/model/) that takes in approproate inputs and outputs."
      ]
    },
    {
      "cell_type": "code",
      "execution_count": null,
      "metadata": {
        "id": "GiD0CiSvTCRG"
      },
      "outputs": [],
      "source": [
        "# Add a global average pooling layer\n",
        "transfer_model = GlobalAveragePooling2D()(vg_model.output)"
      ]
    },
    {
      "cell_type": "code",
      "execution_count": null,
      "metadata": {
        "id": "fKbX1RK4TCB9"
      },
      "outputs": [],
      "source": [
        "# Add a fully connected layer with 256 units and ReLU activation\n",
        "transfer_model = Dense(256, activation = \"relu\")(transfer_model)"
      ]
    },
    {
      "cell_type": "code",
      "execution_count": null,
      "metadata": {
        "id": "yEYDagVQTB33"
      },
      "outputs": [],
      "source": [
        "# Add the final classification layer with 10 units (for CIFAR-10 classes) and softmax activation\n",
        "transfer_model = Dense(10, activation = \"softmax\")(transfer_model)"
      ]
    },
    {
      "cell_type": "code",
      "execution_count": null,
      "metadata": {
        "id": "A-op7iObo8io"
      },
      "outputs": [],
      "source": [
        "# Create the fine-tuned model\n",
        "full_model =  tf.keras.Model(vg_model.input, transfer_model)"
      ]
    },
    {
      "cell_type": "markdown",
      "metadata": {
        "id": "jjgG_9IMwuLS"
      },
      "source": [
        "With your model complete it's time to train it and assess its performance.\n",
        "\n",
        "1. Compile your model using an appropriate loss function. Feel free to play around with the optimizer, but a good starting optimizer might be Adam with a learning rate of 0.001.\n",
        "2. Fit your model on the training data. Use the validation data to print the accuracy for each epoch. Try training for 10 epochs. Note, training can take a few hours so go ahead and grab a cup of coffee.\n",
        "\n",
        "**Optional**: See if you can implement an [Early Stopping](https://keras.io/api/callbacks/early_stopping/) criteria as a callback function."
      ]
    },
    {
      "cell_type": "code",
      "execution_count": null,
      "metadata": {
        "id": "xTFBXCe6TG5m"
      },
      "outputs": [],
      "source": [
        "# Compile the model\n",
        "opt = Adam(learning_rate = .001)\n",
        "full_model.compile(optimizer=opt, loss='categorical_crossentropy', metrics=['accuracy'])\n"
      ]
    },
    {
      "cell_type": "code",
      "execution_count": null,
      "metadata": {
        "colab": {
          "base_uri": "https://localhost:8080/"
        },
        "id": "M5JnXlGPpkDg",
        "outputId": "c9673eee-b092-447a-a1b0-b94fe65fcb83"
      },
      "outputs": [
        {
          "output_type": "stream",
          "name": "stdout",
          "text": [
            "Epoch 1/10\n",
            "1563/1563 [==============================] - 687s 439ms/step - loss: 1.3466 - accuracy: 0.5285 - val_loss: 1.2386 - val_accuracy: 0.5648\n",
            "Epoch 2/10\n",
            "1563/1563 [==============================] - 684s 438ms/step - loss: 1.1714 - accuracy: 0.5873 - val_loss: 1.1828 - val_accuracy: 0.5848\n",
            "Epoch 3/10\n",
            "1563/1563 [==============================] - 682s 436ms/step - loss: 1.1041 - accuracy: 0.6122 - val_loss: 1.1470 - val_accuracy: 0.6007\n",
            "Epoch 4/10\n",
            "1563/1563 [==============================] - 643s 412ms/step - loss: 1.0550 - accuracy: 0.6284 - val_loss: 1.1475 - val_accuracy: 0.6060\n",
            "Epoch 5/10\n",
            "1563/1563 [==============================] - 645s 412ms/step - loss: 1.0123 - accuracy: 0.6427 - val_loss: 1.1301 - val_accuracy: 0.6059\n",
            "Epoch 6/10\n",
            "1563/1563 [==============================] - 681s 436ms/step - loss: 0.9740 - accuracy: 0.6574 - val_loss: 1.1637 - val_accuracy: 0.6032\n",
            "Epoch 7/10\n",
            "1563/1563 [==============================] - 684s 437ms/step - loss: 0.9382 - accuracy: 0.6714 - val_loss: 1.1352 - val_accuracy: 0.6076\n",
            "Epoch 8/10\n",
            "1563/1563 [==============================] - 650s 416ms/step - loss: 0.9064 - accuracy: 0.6824 - val_loss: 1.1072 - val_accuracy: 0.6192\n",
            "Epoch 9/10\n",
            "1563/1563 [==============================] - 649s 415ms/step - loss: 0.8765 - accuracy: 0.6921 - val_loss: 1.1255 - val_accuracy: 0.6142\n",
            "Epoch 10/10\n",
            "1563/1563 [==============================] - 646s 413ms/step - loss: 0.8464 - accuracy: 0.7028 - val_loss: 1.1267 - val_accuracy: 0.6165\n"
          ]
        }
      ],
      "source": [
        "# Train the model\n",
        "hist1 = full_model.fit(X_train, Y_train,  epochs = 10, validation_data = (X_test, Y_test))"
      ]
    },
    {
      "cell_type": "markdown",
      "metadata": {
        "id": "N8-T6EnmypvW"
      },
      "source": [
        "With your model trained, it's time to assess how well it performs on the test data.\n",
        "\n",
        "1. Use your trained model to calculate the accuracy on the test set. Is the model performance better than random?\n",
        "2. Experiment! See if you can tweak your model to improve performance.  "
      ]
    },
    {
      "cell_type": "code",
      "execution_count": null,
      "metadata": {
        "colab": {
          "base_uri": "https://localhost:8080/"
        },
        "id": "auYNYD0JpnaX",
        "outputId": "c3d02a63-ca30-472e-9505-db3c7d52a060"
      },
      "outputs": [
        {
          "output_type": "stream",
          "name": "stdout",
          "text": [
            "313/313 [==============================] - 109s 347ms/step\n"
          ]
        }
      ],
      "source": [
        "# Evaluate the model on the test set\n",
        "from sklearn.metrics import accuracy_score\n",
        "prediction_matrix = full_model.predict(X_test)\n"
      ]
    },
    {
      "cell_type": "code",
      "source": [
        "prediction = np.round(prediction_matrix)"
      ],
      "metadata": {
        "id": "JggPpx8ozJxd"
      },
      "execution_count": null,
      "outputs": []
    },
    {
      "cell_type": "code",
      "execution_count": null,
      "metadata": {
        "id": "YEsvH1bf51zf"
      },
      "outputs": [],
      "source": [
        "score = accuracy_score(Y_test, prediction)"
      ]
    },
    {
      "cell_type": "code",
      "source": [
        "score"
      ],
      "metadata": {
        "colab": {
          "base_uri": "https://localhost:8080/"
        },
        "id": "iMhRiUHLxckz",
        "outputId": "1aa6977c-1a7d-4f72-a267-870fe0419b0c"
      },
      "execution_count": null,
      "outputs": [
        {
          "output_type": "execute_result",
          "data": {
            "text/plain": [
              "0.5251"
            ]
          },
          "metadata": {},
          "execution_count": 19
        }
      ]
    },
    {
      "cell_type": "code",
      "source": [
        "from tensorflow.keras import Sequential\n",
        "from tensorflow.keras.layers import MaxPooling2D, Conv2D\n",
        "\n",
        "model = Sequential()\n",
        "model.add(Conv2D(32, (3, 3), activation='relu', kernel_initializer='he_uniform', padding='same', input_shape=(32, 32, 3)))\n",
        "model.add(Conv2D(32, (3, 3), activation='relu', kernel_initializer='he_uniform', padding='same'))\n",
        "model.add(MaxPooling2D((2, 2)))\n",
        "model.add(Conv2D(32, (3, 3), activation='relu', kernel_initializer='he_uniform', padding='same', input_shape=(32, 32, 3)))\n",
        "model.add(Conv2D(32, (3, 3), activation='relu', kernel_initializer='he_uniform', padding='same'))\n",
        "model.add(MaxPooling2D((2, 2)))\n",
        "model.add(Flatten())\n",
        "model.add(Dense(128, activation = \"relu\"))\n",
        "model.add(Dense(10, activation = \"softmax\"))\n",
        "model.compile(optimizer = \"adam\", loss = \"categorical_crossentropy\", metrics = [\"accuracy\"])\n",
        "model.fit(X_train, Y_train, epochs = 10)"
      ],
      "metadata": {
        "id": "1Bf5CZBGyb24",
        "colab": {
          "base_uri": "https://localhost:8080/"
        },
        "outputId": "0c23cafc-964e-48d3-f9f2-0edab2fbafe8"
      },
      "execution_count": null,
      "outputs": [
        {
          "output_type": "stream",
          "name": "stdout",
          "text": [
            "Epoch 1/10\n",
            "1563/1563 [==============================] - 184s 117ms/step - loss: 1.3147 - accuracy: 0.5301\n",
            "Epoch 2/10\n",
            "1563/1563 [==============================] - 178s 114ms/step - loss: 0.9035 - accuracy: 0.6817\n",
            "Epoch 3/10\n",
            "1563/1563 [==============================] - 177s 113ms/step - loss: 0.7404 - accuracy: 0.7384\n",
            "Epoch 4/10\n",
            "1563/1563 [==============================] - 180s 115ms/step - loss: 0.6197 - accuracy: 0.7824\n",
            "Epoch 5/10\n",
            "1563/1563 [==============================] - 179s 114ms/step - loss: 0.5199 - accuracy: 0.8163\n",
            "Epoch 6/10\n",
            "1563/1563 [==============================] - 177s 113ms/step - loss: 0.4354 - accuracy: 0.8454\n",
            "Epoch 7/10\n",
            "1563/1563 [==============================] - 178s 114ms/step - loss: 0.3600 - accuracy: 0.8721\n",
            "Epoch 8/10\n",
            "1563/1563 [==============================] - 176s 113ms/step - loss: 0.2981 - accuracy: 0.8942\n",
            "Epoch 9/10\n",
            "1563/1563 [==============================] - 178s 114ms/step - loss: 0.2501 - accuracy: 0.9109\n",
            "Epoch 10/10\n",
            "1563/1563 [==============================] - 176s 113ms/step - loss: 0.2074 - accuracy: 0.9269\n"
          ]
        },
        {
          "output_type": "execute_result",
          "data": {
            "text/plain": [
              "<keras.src.callbacks.History at 0x7ad029cf24a0>"
            ]
          },
          "metadata": {},
          "execution_count": 23
        }
      ]
    },
    {
      "cell_type": "code",
      "source": [],
      "metadata": {
        "id": "4ifu-1XszZ3T"
      },
      "execution_count": null,
      "outputs": []
    },
    {
      "cell_type": "code",
      "source": [],
      "metadata": {
        "id": "FpAQLCRq0mFr"
      },
      "execution_count": null,
      "outputs": []
    }
  ],
  "metadata": {
    "colab": {
      "provenance": [],
      "include_colab_link": true
    },
    "kernelspec": {
      "display_name": "Python 3",
      "name": "python3"
    },
    "language_info": {
      "name": "python"
    }
  },
  "nbformat": 4,
  "nbformat_minor": 0
}